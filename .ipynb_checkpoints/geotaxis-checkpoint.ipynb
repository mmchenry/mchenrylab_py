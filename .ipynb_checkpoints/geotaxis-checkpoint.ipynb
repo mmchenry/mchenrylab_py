{
 "cells": [
  {
   "cell_type": "markdown",
   "metadata": {},
   "source": [
    "## Convert image sequences, based on spreadsheet entries"
   ]
  },
  {
   "cell_type": "code",
   "execution_count": 1,
   "metadata": {},
   "outputs": [
    {
     "name": "stdout",
     "output_type": "stream",
     "text": [
      "Converting 2022-02-16_2 . . .\n"
     ]
    },
    {
     "ename": "NameError",
     "evalue": "name 'os' is not defined",
     "output_type": "error",
     "traceback": [
      "\u001b[0;31m---------------------------------------------------------------------------\u001b[0m",
      "\u001b[0;31mNameError\u001b[0m                                 Traceback (most recent call last)",
      "Input \u001b[0;32mIn [1]\u001b[0m, in \u001b[0;36m<cell line: 35>\u001b[0;34m()\u001b[0m\n\u001b[1;32m     47\u001b[0m imagePath \u001b[38;5;241m=\u001b[39m im_path \u001b[38;5;241m+\u001b[39m \u001b[38;5;124m'\u001b[39m\u001b[38;5;124m/\u001b[39m\u001b[38;5;124m'\u001b[39m \u001b[38;5;241m+\u001b[39m \u001b[38;5;28mstr\u001b[39m(data\u001b[38;5;241m.\u001b[39mdate[n]) \u001b[38;5;241m+\u001b[39m \u001b[38;5;124m'\u001b[39m\u001b[38;5;124m/\u001b[39m\u001b[38;5;124m'\u001b[39m\n\u001b[1;32m     49\u001b[0m command \u001b[38;5;241m=\u001b[39m \u001b[38;5;124mf\u001b[39m\u001b[38;5;124m\"\u001b[39m\u001b[38;5;124mffmpeg -start_number \u001b[39m\u001b[38;5;132;01m{\u001b[39;00mfrStart\u001b[38;5;132;01m}\u001b[39;00m\u001b[38;5;124m  -loglevel warning -i \u001b[39m\u001b[38;5;132;01m{\u001b[39;00mimagePath\u001b[38;5;132;01m}\u001b[39;00m\u001b[38;5;124m/DSC%05d.\u001b[39m\u001b[38;5;132;01m{\u001b[39;00msuffix\u001b[38;5;132;01m}\u001b[39;00m\u001b[38;5;124m \u001b[39m\u001b[38;5;130;01m\\\u001b[39;00m\n\u001b[1;32m     50\u001b[0m \u001b[38;5;124m         -vframes \u001b[39m\u001b[38;5;132;01m{\u001b[39;00mnFrames\u001b[38;5;132;01m}\u001b[39;00m\u001b[38;5;124m -y -vcodec libx264 -pix_fmt yuv420p -an -r \u001b[39m\u001b[38;5;132;01m{\u001b[39;00mfps\u001b[38;5;132;01m}\u001b[39;00m\u001b[38;5;124m -crf \u001b[39m\u001b[38;5;132;01m{\u001b[39;00mqVal\u001b[38;5;132;01m}\u001b[39;00m\u001b[38;5;124m  \u001b[39m\u001b[38;5;124m'\u001b[39m\u001b[38;5;132;01m{\u001b[39;00mvidPath\u001b[38;5;132;01m}\u001b[39;00m\u001b[38;5;124m'\u001b[39m\u001b[38;5;124m\"\u001b[39m\n\u001b[0;32m---> 51\u001b[0m \u001b[43mos\u001b[49m\u001b[38;5;241m.\u001b[39msystem(command)\n\u001b[1;32m     53\u001b[0m \u001b[38;5;28mprint\u001b[39m(\u001b[38;5;124m'\u001b[39m\u001b[38;5;124m     Completed \u001b[39m\u001b[38;5;124m'\u001b[39m \u001b[38;5;241m+\u001b[39m \u001b[38;5;28mstr\u001b[39m(\u001b[38;5;28mint\u001b[39m(k)) \u001b[38;5;241m+\u001b[39m \u001b[38;5;124m'\u001b[39m\u001b[38;5;124m of \u001b[39m\u001b[38;5;124m'\u001b[39m \u001b[38;5;241m+\u001b[39m \u001b[38;5;28mstr\u001b[39m(\u001b[38;5;28mint\u001b[39m(nVids)) \u001b[38;5;241m+\u001b[39m \u001b[38;5;124m'\u001b[39m\u001b[38;5;124m videos\u001b[39m\u001b[38;5;124m'\u001b[39m)\n\u001b[1;32m     54\u001b[0m \u001b[38;5;66;03m# print('Completed videos' + )\u001b[39;00m\n",
      "\u001b[0;31mNameError\u001b[0m: name 'os' is not defined"
     ]
    }
   ],
   "source": [
    "# import csv\n",
    "import pandas as pd\n",
    "import numpy as np\n",
    "import os\n",
    "# import videoTools as vt\n",
    "\n",
    "# Change to for each computer\n",
    "root_path = '/Users/mmchenry/Documents/Projects/geotaxis'\n",
    "\n",
    "# Subdirectories\n",
    "csv_path  = root_path + '/Seastar geotaxis experiment log - Experiments.csv'\n",
    "im_path   = root_path + '/Raw_images'\n",
    "out_path  = root_path + '/Videos'\n",
    "\n",
    "# Frame rate, image quality, image suffix\n",
    "fps = 1\n",
    "imQuality = 0.75\n",
    "suffix = \"JPG\"\n",
    "\n",
    "# Quality value, on the 51-point scale used by ffmpeg\n",
    "qVal = 51 * (1 - imQuality)\n",
    "\n",
    "# Open CSV file\n",
    "file = open(csv_path)\n",
    "\n",
    "# Import CSV data\n",
    "data = pd.read_csv(file)\n",
    "\n",
    "# Number of videos to analyze\n",
    "nVids = np.nansum(data.make_video)\n",
    "\n",
    "# COunter for number of videos analyzed\n",
    "k = 1\n",
    "\n",
    "# Loop though each row \n",
    "for n in range(len(data)):\n",
    "\n",
    "    if data.make_video[n]==1:\n",
    "\n",
    "        print('Converting ' + str(data.date[n]) + '_' + str(int(data.trial_num[n])) + ' . . .')\n",
    "\n",
    "        # Read number of frames from spreadsheet\n",
    "        frStart = int(data.start_image_filename[n][3:])\n",
    "        frEnd   = int(data.end_image_filename[n][3:])\n",
    "        nFrames = frEnd - frStart\n",
    "\n",
    "        vidPath = out_path + '/' + str(data.date[n]) + '_' + str(int(data.trial_num[n])) + '.mp4'\n",
    "        imagePath = im_path + '/' + str(data.date[n]) + '/'\n",
    "\n",
    "        command = f\"ffmpeg -start_number {frStart}  -loglevel warning -i {imagePath}/DSC%05d.{suffix} \\\n",
    "                 -vframes {nFrames} -y -vcodec libx264 -pix_fmt yuv420p -an -r {fps} -crf {qVal}  '{vidPath}'\"\n",
    "        os.system(command)\n",
    "\n",
    "        print('     Completed ' + str(int(k)) + ' of ' + str(int(nVids)) + ' videos')\n",
    "        # print('Completed videos' + )\n",
    "        k = k + 1\n",
    "\n",
    "# Close CSV\n",
    "file.close()\n"
   ]
  },
  {
   "cell_type": "code",
   "execution_count": null,
   "metadata": {},
   "outputs": [],
   "source": []
  }
 ],
 "metadata": {
  "interpreter": {
   "hash": "704b9ce594168d67babdc22e621c35e32a5c0e594a9d61403fb7185fea7bc7ea"
  },
  "kernelspec": {
   "display_name": "Python 3 (ipykernel)",
   "language": "python",
   "name": "python3"
  },
  "language_info": {
   "codemirror_mode": {
    "name": "ipython",
    "version": 3
   },
   "file_extension": ".py",
   "mimetype": "text/x-python",
   "name": "python",
   "nbconvert_exporter": "python",
   "pygments_lexer": "ipython3",
   "version": "3.9.7"
  }
 },
 "nbformat": 4,
 "nbformat_minor": 2
}
