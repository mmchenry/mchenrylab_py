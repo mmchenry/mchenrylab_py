{
 "cells": [
  {
   "cell_type": "markdown",
   "metadata": {},
   "source": [
    "## Paths, packages, and parameters"
   ]
  },
  {
   "cell_type": "code",
   "execution_count": 15,
   "metadata": {},
   "outputs": [],
   "source": [
    "import pandas as pd\n",
    "import numpy as np\n",
    "import os\n",
    "import cv2 as cv  # openCV for interacting with video\n",
    "from matplotlib import pyplot as plt\n",
    "# import videoTools as vt\n",
    "\n",
    "# Change to for each computer\n",
    "root_path = '/Users/cleo/Documents/Geotaxis'\n",
    "\n",
    "# Subdirectories\n",
    "csv_path  = root_path + '/Seastar geotaxis experiment log - Experiments.csv'\n",
    "im_path   = root_path + '/Raw_images'\n",
    "out_path  = root_path + '/Videos'\n",
    "\n",
    "# Suffix for images\n",
    "suffix = \"JPG\"\n",
    "\n",
    "# Parameters for selecting ROI\n",
    "show_crosshair = True\n",
    "from_center=True"
   ]
  },
  {
   "cell_type": "markdown",
   "metadata": {},
   "source": [
    "## Convert image sequences, based on spreadsheet entries"
   ]
  },
  {
   "cell_type": "code",
   "execution_count": 16,
   "metadata": {},
   "outputs": [
    {
     "name": "stdout",
     "output_type": "stream",
     "text": [
      "Converting 2022-02-10_13 . . .\n",
      "     154 frames, starting with DSC01798.JPG\n"
     ]
    },
    {
     "name": "stderr",
     "output_type": "stream",
     "text": [
      "[swscaler @ 0x7fee488e8000] [swscaler @ 0x7fee488f8000] deprecated pixel format used, make sure you did set range correctly\n",
      "[swscaler @ 0x7fee488e8000] [swscaler @ 0x7fee48458000] deprecated pixel format used, make sure you did set range correctly\n",
      "[swscaler @ 0x7fee488e8000] [swscaler @ 0x7fee48478000] deprecated pixel format used, make sure you did set range correctly\n",
      "[swscaler @ 0x7fee488e8000] [swscaler @ 0x7fee48498000] deprecated pixel format used, make sure you did set range correctly\n",
      "[swscaler @ 0x7fee488e8000] [swscaler @ 0x7fee484b8000] deprecated pixel format used, make sure you did set range correctly\n",
      "[swscaler @ 0x7fee488e8000] [swscaler @ 0x7fee484d8000] deprecated pixel format used, make sure you did set range correctly\n",
      "[swscaler @ 0x7fee488e8000] [swscaler @ 0x7fee484f8000] deprecated pixel format used, make sure you did set range correctly\n",
      "[swscaler @ 0x7fee488e8000] [swscaler @ 0x7fee48518000] deprecated pixel format used, make sure you did set range correctly\n",
      "[swscaler @ 0x7fee488e8000] [swscaler @ 0x7fee48538000] deprecated pixel format used, make sure you did set range correctly\n",
      "[swscaler @ 0x7fee488e8000] [swscaler @ 0x7fee48558000] deprecated pixel format used, make sure you did set range correctly\n",
      "[swscaler @ 0x7fee488e8000] [swscaler @ 0x7fee48578000] deprecated pixel format used, make sure you did set range correctly\n",
      "[swscaler @ 0x7fee488e8000] [swscaler @ 0x7fee48598000] deprecated pixel format used, make sure you did set range correctly\n",
      "[swscaler @ 0x7fee488e8000] [swscaler @ 0x7fee485b8000] deprecated pixel format used, make sure you did set range correctly\n",
      "[swscaler @ 0x7fee488e8000] [swscaler @ 0x7fee485d8000] deprecated pixel format used, make sure you did set range correctly\n",
      "[swscaler @ 0x7fee488e8000] [swscaler @ 0x7fee485f8000] deprecated pixel format used, make sure you did set range correctly\n",
      "[swscaler @ 0x7fee488e8000] [swscaler @ 0x7fee48618000] deprecated pixel format used, make sure you did set range correctly\n",
      "[swscaler @ 0x7fee488e8000] [swscaler @ 0x7fee48638000] deprecated pixel format used, make sure you did set range correctly\n",
      "[mp4 @ 0x7fee56f05b40] Using non-standard frame rate 1/1\n",
      "    Last message repeated 1 times\n",
      "[mp4 @ 0x7fee56f05b40] Application provided duration: -9223372036854775808 / timestamp: -9223372036854775808 is out of range for mov/mp4 format\n",
      "[mp4 @ 0x7fee56f05b40] pts has no value\n"
     ]
    },
    {
     "name": "stdout",
     "output_type": "stream",
     "text": [
      "     Completed 1 of 16 videos\n",
      "Converting 2022-02-10_14 . . .\n",
      "     -1703 frames, starting with DSC01955.JPG\n",
      "     Completed 2 of 16 videos\n",
      "Converting 2022-02-10_15 . . .\n",
      "     324 frames, starting with DSC02154.JPG\n"
     ]
    },
    {
     "name": "stderr",
     "output_type": "stream",
     "text": [
      "Finishing stream 0:0 without any data written to it.\n",
      "[swscaler @ 0x7f7f38008000] [swscaler @ 0x7f7f58918000] deprecated pixel format used, make sure you did set range correctly\n",
      "[swscaler @ 0x7f7f38008000] [swscaler @ 0x7f7f38050000] deprecated pixel format used, make sure you did set range correctly\n",
      "[swscaler @ 0x7f7f38008000] [swscaler @ 0x7f7f38028000] deprecated pixel format used, make sure you did set range correctly\n",
      "[swscaler @ 0x7f7f38008000] [swscaler @ 0x7f7f38070000] deprecated pixel format used, make sure you did set range correctly\n",
      "[swscaler @ 0x7f7f38008000] [swscaler @ 0x7f7f38090000] deprecated pixel format used, make sure you did set range correctly\n",
      "[swscaler @ 0x7f7f38008000] [swscaler @ 0x7f7f380b0000] deprecated pixel format used, make sure you did set range correctly\n",
      "[swscaler @ 0x7f7f38008000] [swscaler @ 0x7f7f380d0000] deprecated pixel format used, make sure you did set range correctly\n",
      "[swscaler @ 0x7f7f38008000] [swscaler @ 0x7f7f380f0000] deprecated pixel format used, make sure you did set range correctly\n",
      "[swscaler @ 0x7f7f38008000] [swscaler @ 0x7f7f38110000] deprecated pixel format used, make sure you did set range correctly\n",
      "[swscaler @ 0x7f7f38008000] [swscaler @ 0x7f7f38130000] deprecated pixel format used, make sure you did set range correctly\n",
      "[swscaler @ 0x7f7f38008000] [swscaler @ 0x7f7f38150000] deprecated pixel format used, make sure you did set range correctly\n",
      "[swscaler @ 0x7f7f38008000] [swscaler @ 0x7f7f38170000] deprecated pixel format used, make sure you did set range correctly\n",
      "[swscaler @ 0x7f7f38008000] [swscaler @ 0x7f7f38190000] deprecated pixel format used, make sure you did set range correctly\n",
      "[swscaler @ 0x7f7f38008000] [swscaler @ 0x7f7f381b0000] deprecated pixel format used, make sure you did set range correctly\n",
      "[swscaler @ 0x7f7f38008000] [swscaler @ 0x7f7f381d0000] deprecated pixel format used, make sure you did set range correctly\n",
      "[swscaler @ 0x7f7f38008000] [swscaler @ 0x7f7f381f0000] deprecated pixel format used, make sure you did set range correctly\n",
      "[swscaler @ 0x7f7f38008000] [swscaler @ 0x7f7f38210000] deprecated pixel format used, make sure you did set range correctly\n",
      "[mp4 @ 0x7f7f52704dc0] Using non-standard frame rate 1/1\n",
      "    Last message repeated 1 times\n",
      "[mp4 @ 0x7f7f52704dc0] Application provided duration: -9223372036854775808 / timestamp: -9223372036854775808 is out of range for mov/mp4 format\n",
      "[mp4 @ 0x7f7f52704dc0] pts has no value\n",
      "[swscaler @ 0x7f8550008000] [swscaler @ 0x7f8540008000] deprecated pixel format used, make sure you did set range correctly\n",
      "[swscaler @ 0x7f8550008000] [swscaler @ 0x7f8540028000] deprecated pixel format used, make sure you did set range correctly\n",
      "[swscaler @ 0x7f8550008000] [swscaler @ 0x7f8540048000] deprecated pixel format used, make sure you did set range correctly\n",
      "[swscaler @ 0x7f8550008000] [swscaler @ 0x7f8540068000] deprecated pixel format used, make sure you did set range correctly\n",
      "[swscaler @ 0x7f8550008000] [swscaler @ 0x7f8540088000] deprecated pixel format used, make sure you did set range correctly\n",
      "[swscaler @ 0x7f8550008000] [swscaler @ 0x7f85400a8000] deprecated pixel format used, make sure you did set range correctly\n",
      "[swscaler @ 0x7f8550008000] [swscaler @ 0x7f85400c8000] deprecated pixel format used, make sure you did set range correctly\n",
      "[swscaler @ 0x7f8550008000] [swscaler @ 0x7f85400e8000] deprecated pixel format used, make sure you did set range correctly\n",
      "[swscaler @ 0x7f8550008000] [swscaler @ 0x7f8540108000] deprecated pixel format used, make sure you did set range correctly\n",
      "[swscaler @ 0x7f8550008000] [swscaler @ 0x7f8540128000] deprecated pixel format used, make sure you did set range correctly\n",
      "[swscaler @ 0x7f8550008000] [swscaler @ 0x7f8540148000] deprecated pixel format used, make sure you did set range correctly\n",
      "[swscaler @ 0x7f8550008000] [swscaler @ 0x7f8540168000] deprecated pixel format used, make sure you did set range correctly\n",
      "[swscaler @ 0x7f8550008000] [swscaler @ 0x7f8540188000] deprecated pixel format used, make sure you did set range correctly\n",
      "[swscaler @ 0x7f8550008000] [swscaler @ 0x7f85401a8000] deprecated pixel format used, make sure you did set range correctly\n",
      "[swscaler @ 0x7f8550008000] [swscaler @ 0x7f85401c8000] deprecated pixel format used, make sure you did set range correctly\n",
      "[swscaler @ 0x7f8550008000] [swscaler @ 0x7f85401e8000] deprecated pixel format used, make sure you did set range correctly\n",
      "[swscaler @ 0x7f8550008000] [swscaler @ 0x7f8540208000] deprecated pixel format used, make sure you did set range correctly\n",
      "[libx264 @ 0x7f858ff07e00] height not divisible by 2 (4340x3219)\n",
      "Error initializing output stream 0:0 -- Error while opening encoder for output stream #0:0 - maybe incorrect parameters such as bit_rate, rate, width or height\n",
      "[swscaler @ 0x7fcb28008000] [swscaler @ 0x7fcb18008000] deprecated pixel format used, make sure you did set range correctly\n"
     ]
    },
    {
     "name": "stdout",
     "output_type": "stream",
     "text": [
      "     Completed 3 of 16 videos\n",
      "Converting 2022-02-10_16 . . .\n",
      "     297 frames, starting with DSC02481.JPG\n",
      "     Completed 4 of 16 videos\n",
      "Converting 2022-02-10_17 . . .\n",
      "     94 frames, starting with DSC02781.JPG\n"
     ]
    },
    {
     "name": "stderr",
     "output_type": "stream",
     "text": [
      "[swscaler @ 0x7fcb28008000] [swscaler @ 0x7fcb18028000] deprecated pixel format used, make sure you did set range correctly\n",
      "[swscaler @ 0x7fcb28008000] [swscaler @ 0x7fcb18048000] deprecated pixel format used, make sure you did set range correctly\n",
      "[swscaler @ 0x7fcb28008000] [swscaler @ 0x7fcb18068000] deprecated pixel format used, make sure you did set range correctly\n",
      "[swscaler @ 0x7fcb28008000] [swscaler @ 0x7fcb18088000] deprecated pixel format used, make sure you did set range correctly\n",
      "[swscaler @ 0x7fcb28008000] [swscaler @ 0x7fcb180a8000] deprecated pixel format used, make sure you did set range correctly\n",
      "[swscaler @ 0x7fcb28008000] [swscaler @ 0x7fcb180c8000] deprecated pixel format used, make sure you did set range correctly\n",
      "[swscaler @ 0x7fcb28008000] [swscaler @ 0x7fcb180e8000] deprecated pixel format used, make sure you did set range correctly\n",
      "[swscaler @ 0x7fcb28008000] [swscaler @ 0x7fcb18108000] deprecated pixel format used, make sure you did set range correctly\n",
      "[swscaler @ 0x7fcb28008000] [swscaler @ 0x7fcb18128000] deprecated pixel format used, make sure you did set range correctly\n",
      "[swscaler @ 0x7fcb28008000] [swscaler @ 0x7fcb18148000] deprecated pixel format used, make sure you did set range correctly\n",
      "[swscaler @ 0x7fcb28008000] [swscaler @ 0x7fcb18168000] deprecated pixel format used, make sure you did set range correctly\n",
      "[swscaler @ 0x7fcb28008000] [swscaler @ 0x7fcb18188000] deprecated pixel format used, make sure you did set range correctly\n",
      "[swscaler @ 0x7fcb28008000] [swscaler @ 0x7fcb181a8000] deprecated pixel format used, make sure you did set range correctly\n",
      "[swscaler @ 0x7fcb28008000] [swscaler @ 0x7fcb181c8000] deprecated pixel format used, make sure you did set range correctly\n",
      "[swscaler @ 0x7fcb28008000] [swscaler @ 0x7fcb181e8000] deprecated pixel format used, make sure you did set range correctly\n",
      "[swscaler @ 0x7fcb28008000] [swscaler @ 0x7fcb18208000] deprecated pixel format used, make sure you did set range correctly\n",
      "[libx264 @ 0x7fcb41f05b40] height not divisible by 2 (4394x3243)\n",
      "Error initializing output stream 0:0 -- Error while opening encoder for output stream #0:0 - maybe incorrect parameters such as bit_rate, rate, width or height\n",
      "[swscaler @ 0x7fea28038000] [swscaler @ 0x7fea20948000] deprecated pixel format used, make sure you did set range correctly\n",
      "[swscaler @ 0x7fea28038000] [swscaler @ 0x7fea00008000] deprecated pixel format used, make sure you did set range correctly\n",
      "[swscaler @ 0x7fea28038000] [swscaler @ 0x7fea00028000] deprecated pixel format used, make sure you did set range correctly\n",
      "[swscaler @ 0x7fea28038000] [swscaler @ 0x7fea00048000] deprecated pixel format used, make sure you did set range correctly\n",
      "[swscaler @ 0x7fea28038000] [swscaler @ 0x7fea00068000] deprecated pixel format used, make sure you did set range correctly\n",
      "[swscaler @ 0x7fea28038000] [swscaler @ 0x7fea00088000] deprecated pixel format used, make sure you did set range correctly\n",
      "[swscaler @ 0x7fea28038000] [swscaler @ 0x7fea000a8000] deprecated pixel format used, make sure you did set range correctly\n",
      "[swscaler @ 0x7fea28038000] [swscaler @ 0x7fea000c8000] deprecated pixel format used, make sure you did set range correctly\n",
      "[swscaler @ 0x7fea28038000] [swscaler @ 0x7fea000e8000] deprecated pixel format used, make sure you did set range correctly\n",
      "[swscaler @ 0x7fea28038000] [swscaler @ 0x7fea00108000] deprecated pixel format used, make sure you did set range correctly\n",
      "[swscaler @ 0x7fea28038000] [swscaler @ 0x7fea00128000] deprecated pixel format used, make sure you did set range correctly\n",
      "[swscaler @ 0x7fea28038000] [swscaler @ 0x7fea00148000] deprecated pixel format used, make sure you did set range correctly\n",
      "[swscaler @ 0x7fea28038000] [swscaler @ 0x7fea00168000] deprecated pixel format used, make sure you did set range correctly\n",
      "[swscaler @ 0x7fea28038000] [swscaler @ 0x7fea00188000] deprecated pixel format used, make sure you did set range correctly\n",
      "[swscaler @ 0x7fea28038000] [swscaler @ 0x7fea30908000] deprecated pixel format used, make sure you did set range correctly\n",
      "[swscaler @ 0x7fea28038000] [swscaler @ 0x7fea20968000] deprecated pixel format used, make sure you did set range correctly\n",
      "[swscaler @ 0x7fea28038000] [swscaler @ 0x7fea20988000] deprecated pixel format used, make sure you did set range correctly\n",
      "[libx264 @ 0x7fea3c905cc0] height not divisible by 2 (4326x3333)\n",
      "Error initializing output stream 0:0 -- Error while opening encoder for output stream #0:0 - maybe incorrect parameters such as bit_rate, rate, width or height\n",
      "[swscaler @ 0x7fa4f0008000] [swscaler @ 0x7fa4e0008000] deprecated pixel format used, make sure you did set range correctly\n",
      "[swscaler @ 0x7fa4f0008000] [swscaler @ 0x7fa4e0028000] deprecated pixel format used, make sure you did set range correctly\n",
      "[swscaler @ 0x7fa4f0008000] [swscaler @ 0x7fa4e0048000] deprecated pixel format used, make sure you did set range correctly\n",
      "[swscaler @ 0x7fa4f0008000] [swscaler @ 0x7fa4e0068000] deprecated pixel format used, make sure you did set range correctly\n",
      "[swscaler @ 0x7fa4f0008000] [swscaler @ 0x7fa4e0088000] deprecated pixel format used, make sure you did set range correctly\n",
      "[swscaler @ 0x7fa4f0008000] [swscaler @ 0x7fa4e00a8000] deprecated pixel format used, make sure you did set range correctly\n",
      "[swscaler @ 0x7fa4f0008000] [swscaler @ 0x7fa4e00c8000] deprecated pixel format used, make sure you did set range correctly\n",
      "[swscaler @ 0x7fa4f0008000] [swscaler @ 0x7fa4e00e8000] deprecated pixel format used, make sure you did set range correctly\n",
      "[swscaler @ 0x7fa4f0008000] [swscaler @ 0x7fa4e0108000] deprecated pixel format used, make sure you did set range correctly\n",
      "[swscaler @ 0x7fa4f0008000] [swscaler @ 0x7fa500038000] deprecated pixel format used, make sure you did set range correctly\n",
      "[swscaler @ 0x7fa4f0008000] [swscaler @ 0x7fa500058000] deprecated pixel format used, make sure you did set range correctly\n",
      "[swscaler @ 0x7fa4f0008000] [swscaler @ 0x7fa500078000] deprecated pixel format used, make sure you did set range correctly\n",
      "[swscaler @ 0x7fa4f0008000] [swscaler @ 0x7fa500098000] deprecated pixel format used, make sure you did set range correctly\n",
      "[swscaler @ 0x7fa4f0008000] [swscaler @ 0x7fa5000b8000] deprecated pixel format used, make sure you did set range correctly\n",
      "[swscaler @ 0x7fa4f0008000] [swscaler @ 0x7fa5000d8000] deprecated pixel format used, make sure you did set range correctly\n",
      "[swscaler @ 0x7fa4f0008000] [swscaler @ 0x7fa5000f8000] deprecated pixel format used, make sure you did set range correctly\n",
      "[swscaler @ 0x7fa4f0008000] [swscaler @ 0x7fa500118000] deprecated pixel format used, make sure you did set range correctly\n"
     ]
    },
    {
     "name": "stdout",
     "output_type": "stream",
     "text": [
      "     Completed 5 of 16 videos\n",
      "Converting 2022-02-10_18 . . .\n",
      "     175 frames, starting with DSC02878.JPG\n",
      "     Completed 6 of 16 videos\n",
      "Converting 2022-02-16_1 . . .\n",
      "     116 frames, starting with DSC03047.JPG\n"
     ]
    },
    {
     "name": "stderr",
     "output_type": "stream",
     "text": [
      "[libx264 @ 0x7fa51ea05d80] height not divisible by 2 (4292x3291)\n",
      "Error initializing output stream 0:0 -- Error while opening encoder for output stream #0:0 - maybe incorrect parameters such as bit_rate, rate, width or height\n",
      "[image2 @ 0x7fdbeb005700] Could find no file with path '/Users/cleo/Documents/Geotaxis/Raw_images/2022-02-16//DSC%05d.JPG' and index in the range 3047-3051\n",
      "/Users/cleo/Documents/Geotaxis/Raw_images/2022-02-16//DSC%05d.JPG: No such file or directory\n"
     ]
    },
    {
     "name": "stdout",
     "output_type": "stream",
     "text": [
      "     Completed 7 of 16 videos\n",
      "Converting 2022-02-16_2 . . .\n",
      "     170 frames, starting with DSC03166.JPG\n"
     ]
    },
    {
     "name": "stderr",
     "output_type": "stream",
     "text": [
      "[swscaler @ 0x7f7e78020000] [swscaler @ 0x7f7e38008000] deprecated pixel format used, make sure you did set range correctly\n",
      "[swscaler @ 0x7f7e78020000] [swscaler @ 0x7f7e38028000] deprecated pixel format used, make sure you did set range correctly\n",
      "[swscaler @ 0x7f7e78020000] [swscaler @ 0x7f7e38048000] deprecated pixel format used, make sure you did set range correctly\n",
      "[swscaler @ 0x7f7e78020000] [swscaler @ 0x7f7e38068000] deprecated pixel format used, make sure you did set range correctly\n",
      "[swscaler @ 0x7f7e78020000] [swscaler @ 0x7f7e38088000] deprecated pixel format used, make sure you did set range correctly\n",
      "[swscaler @ 0x7f7e78020000] [swscaler @ 0x7f7e380a8000] deprecated pixel format used, make sure you did set range correctly\n",
      "[swscaler @ 0x7f7e78020000] [swscaler @ 0x7f7e380c8000] deprecated pixel format used, make sure you did set range correctly\n",
      "[swscaler @ 0x7f7e78020000] [swscaler @ 0x7f7e380e8000] deprecated pixel format used, make sure you did set range correctly\n",
      "[swscaler @ 0x7f7e78020000] [swscaler @ 0x7f7e38108000] deprecated pixel format used, make sure you did set range correctly\n",
      "[swscaler @ 0x7f7e78020000] [swscaler @ 0x7f7e38128000] deprecated pixel format used, make sure you did set range correctly\n",
      "[swscaler @ 0x7f7e78020000] [swscaler @ 0x7f7e689e0000] deprecated pixel format used, make sure you did set range correctly\n",
      "[swscaler @ 0x7f7e78020000] [swscaler @ 0x7f7e68a78000] deprecated pixel format used, make sure you did set range correctly\n",
      "[swscaler @ 0x7f7e78020000] [swscaler @ 0x7f7e68a10000] deprecated pixel format used, make sure you did set range correctly\n",
      "[swscaler @ 0x7f7e78020000] [swscaler @ 0x7f7e68a88000] deprecated pixel format used, make sure you did set range correctly\n",
      "[swscaler @ 0x7f7e78020000] [swscaler @ 0x7f7e68aa8000] deprecated pixel format used, make sure you did set range correctly\n",
      "[swscaler @ 0x7f7e78020000] [swscaler @ 0x7f7e68ac8000] deprecated pixel format used, make sure you did set range correctly\n",
      "[swscaler @ 0x7f7e78020000] [swscaler @ 0x7f7e68ae8000] deprecated pixel format used, make sure you did set range correctly\n",
      "[mp4 @ 0x7f7e72804c00] Using non-standard frame rate 1/1\n",
      "    Last message repeated 1 times\n",
      "[mp4 @ 0x7f7e72804c00] Application provided duration: -9223372036854775808 / timestamp: -9223372036854775808 is out of range for mov/mp4 format\n",
      "[mp4 @ 0x7f7e72804c00] pts has no value\n"
     ]
    },
    {
     "name": "stdout",
     "output_type": "stream",
     "text": [
      "     Completed 8 of 16 videos\n",
      "Converting 2022-02-16_3 . . .\n",
      "     155 frames, starting with DSC03338.JPG\n"
     ]
    },
    {
     "name": "stderr",
     "output_type": "stream",
     "text": [
      "[swscaler @ 0x7ff058008000] [swscaler @ 0x7ff098020000] deprecated pixel format used, make sure you did set range correctly\n",
      "[swscaler @ 0x7ff058008000] [swscaler @ 0x7ff098040000] deprecated pixel format used, make sure you did set range correctly\n",
      "[swscaler @ 0x7ff058008000] [swscaler @ 0x7ff098060000] deprecated pixel format used, make sure you did set range correctly\n",
      "[swscaler @ 0x7ff058008000] [swscaler @ 0x7ff098080000] deprecated pixel format used, make sure you did set range correctly\n",
      "[swscaler @ 0x7ff058008000] [swscaler @ 0x7ff0889c0000] deprecated pixel format used, make sure you did set range correctly\n",
      "[swscaler @ 0x7ff058008000] [swscaler @ 0x7ff0889e0000] deprecated pixel format used, make sure you did set range correctly\n",
      "[swscaler @ 0x7ff058008000] [swscaler @ 0x7ff0884b0000] deprecated pixel format used, make sure you did set range correctly\n",
      "[swscaler @ 0x7ff058008000] [swscaler @ 0x7ff048058000] deprecated pixel format used, make sure you did set range correctly\n",
      "[swscaler @ 0x7ff058008000] [swscaler @ 0x7ff048008000] deprecated pixel format used, make sure you did set range correctly\n",
      "[swscaler @ 0x7ff058008000] [swscaler @ 0x7ff048078000] deprecated pixel format used, make sure you did set range correctly\n",
      "[swscaler @ 0x7ff058008000] [swscaler @ 0x7ff048028000] deprecated pixel format used, make sure you did set range correctly\n",
      "[swscaler @ 0x7ff058008000] [swscaler @ 0x7ff048048000] deprecated pixel format used, make sure you did set range correctly\n",
      "[swscaler @ 0x7ff058008000] [swscaler @ 0x7ff0480a8000] deprecated pixel format used, make sure you did set range correctly\n",
      "[swscaler @ 0x7ff058008000] [swscaler @ 0x7ff0480c8000] deprecated pixel format used, make sure you did set range correctly\n",
      "[swscaler @ 0x7ff058008000] [swscaler @ 0x7ff0480e8000] deprecated pixel format used, make sure you did set range correctly\n",
      "[swscaler @ 0x7ff058008000] [swscaler @ 0x7ff078538000] deprecated pixel format used, make sure you did set range correctly\n",
      "[swscaler @ 0x7ff058008000] [swscaler @ 0x7ff078558000] deprecated pixel format used, make sure you did set range correctly\n",
      "[mp4 @ 0x7ff083f04dc0] Using non-standard frame rate 1/1\n",
      "    Last message repeated 1 times\n",
      "[mp4 @ 0x7ff083f04dc0] Application provided duration: -9223372036854775808 / timestamp: -9223372036854775808 is out of range for mov/mp4 format\n",
      "[mp4 @ 0x7ff083f04dc0] pts has no value\n"
     ]
    },
    {
     "name": "stdout",
     "output_type": "stream",
     "text": [
      "     Completed 9 of 16 videos\n",
      "Converting 2022-02-16_4 . . .\n",
      "     245 frames, starting with DSC03496.JPG\n"
     ]
    },
    {
     "name": "stderr",
     "output_type": "stream",
     "text": [
      "[swscaler @ 0x7fdc80020000] [swscaler @ 0x7fdc40008000] deprecated pixel format used, make sure you did set range correctly\n",
      "[swscaler @ 0x7fdc80020000] [swscaler @ 0x7fdc40028000] deprecated pixel format used, make sure you did set range correctly\n",
      "[swscaler @ 0x7fdc80020000] [swscaler @ 0x7fdc40048000] deprecated pixel format used, make sure you did set range correctly\n",
      "[swscaler @ 0x7fdc80020000] [swscaler @ 0x7fdc40068000] deprecated pixel format used, make sure you did set range correctly\n",
      "[swscaler @ 0x7fdc80020000] [swscaler @ 0x7fdc40088000] deprecated pixel format used, make sure you did set range correctly\n",
      "[swscaler @ 0x7fdc80020000] [swscaler @ 0x7fdc400a8000] deprecated pixel format used, make sure you did set range correctly\n",
      "[swscaler @ 0x7fdc80020000] [swscaler @ 0x7fdc400c8000] deprecated pixel format used, make sure you did set range correctly\n",
      "[swscaler @ 0x7fdc80020000] [swscaler @ 0x7fdc80030000] deprecated pixel format used, make sure you did set range correctly\n",
      "[swscaler @ 0x7fdc80020000] [swscaler @ 0x7fdc80050000] deprecated pixel format used, make sure you did set range correctly\n",
      "[swscaler @ 0x7fdc80020000] [swscaler @ 0x7fdc80070000] deprecated pixel format used, make sure you did set range correctly\n",
      "[swscaler @ 0x7fdc80020000] [swscaler @ 0x7fdc80090000] deprecated pixel format used, make sure you did set range correctly\n",
      "[swscaler @ 0x7fdc80020000] [swscaler @ 0x7fdc800b0000] deprecated pixel format used, make sure you did set range correctly\n",
      "[swscaler @ 0x7fdc80020000] [swscaler @ 0x7fdc800d0000] deprecated pixel format used, make sure you did set range correctly\n",
      "[swscaler @ 0x7fdc80020000] [swscaler @ 0x7fdc800f0000] deprecated pixel format used, make sure you did set range correctly\n",
      "[swscaler @ 0x7fdc80020000] [swscaler @ 0x7fdc80110000] deprecated pixel format used, make sure you did set range correctly\n",
      "[swscaler @ 0x7fdc80020000] [swscaler @ 0x7fdc80130000] deprecated pixel format used, make sure you did set range correctly\n",
      "[swscaler @ 0x7fdc80020000] [swscaler @ 0x7fdc80150000] deprecated pixel format used, make sure you did set range correctly\n",
      "[mp4 @ 0x7fdc69704dc0] Using non-standard frame rate 1/1\n",
      "    Last message repeated 1 times\n",
      "[mp4 @ 0x7fdc69704dc0] Application provided duration: -9223372036854775808 / timestamp: -9223372036854775808 is out of range for mov/mp4 format\n",
      "[mp4 @ 0x7fdc69704dc0] pts has no value\n"
     ]
    },
    {
     "name": "stdout",
     "output_type": "stream",
     "text": [
      "     Completed 10 of 16 videos\n",
      "Converting 2022-02-16_5 . . .\n",
      "     194 frames, starting with DSC03743.JPG\n"
     ]
    },
    {
     "name": "stderr",
     "output_type": "stream",
     "text": [
      "[swscaler @ 0x7fe368008000] [swscaler @ 0x7fe358008000] deprecated pixel format used, make sure you did set range correctly\n",
      "[swscaler @ 0x7fe368008000] [swscaler @ 0x7fe358028000] deprecated pixel format used, make sure you did set range correctly\n",
      "[swscaler @ 0x7fe368008000] [swscaler @ 0x7fe358048000] deprecated pixel format used, make sure you did set range correctly\n",
      "[swscaler @ 0x7fe368008000] [swscaler @ 0x7fe358068000] deprecated pixel format used, make sure you did set range correctly\n",
      "[swscaler @ 0x7fe368008000] [swscaler @ 0x7fe358088000] deprecated pixel format used, make sure you did set range correctly\n",
      "[swscaler @ 0x7fe368008000] [swscaler @ 0x7fe3580a8000] deprecated pixel format used, make sure you did set range correctly\n",
      "[swscaler @ 0x7fe368008000] [swscaler @ 0x7fe3580c8000] deprecated pixel format used, make sure you did set range correctly\n",
      "[swscaler @ 0x7fe368008000] [swscaler @ 0x7fe3580e8000] deprecated pixel format used, make sure you did set range correctly\n",
      "[swscaler @ 0x7fe368008000] [swscaler @ 0x7fe358108000] deprecated pixel format used, make sure you did set range correctly\n",
      "[swscaler @ 0x7fe368008000] [swscaler @ 0x7fe358128000] deprecated pixel format used, make sure you did set range correctly\n",
      "[swscaler @ 0x7fe368008000] [swscaler @ 0x7fe358148000] deprecated pixel format used, make sure you did set range correctly\n",
      "[swscaler @ 0x7fe368008000] [swscaler @ 0x7fe358168000] deprecated pixel format used, make sure you did set range correctly\n",
      "[swscaler @ 0x7fe368008000] [swscaler @ 0x7fe358188000] deprecated pixel format used, make sure you did set range correctly\n",
      "[swscaler @ 0x7fe368008000] [swscaler @ 0x7fe3581a8000] deprecated pixel format used, make sure you did set range correctly\n",
      "[swscaler @ 0x7fe368008000] [swscaler @ 0x7fe3581c8000] deprecated pixel format used, make sure you did set range correctly\n",
      "[swscaler @ 0x7fe368008000] [swscaler @ 0x7fe3581e8000] deprecated pixel format used, make sure you did set range correctly\n",
      "[swscaler @ 0x7fe368008000] [swscaler @ 0x7fe358208000] deprecated pixel format used, make sure you did set range correctly\n",
      "[mp4 @ 0x7fe396804d00] Using non-standard frame rate 1/1\n",
      "    Last message repeated 1 times\n",
      "[mp4 @ 0x7fe396804d00] Application provided duration: -9223372036854775808 / timestamp: -9223372036854775808 is out of range for mov/mp4 format\n",
      "[mp4 @ 0x7fe396804d00] pts has no value\n"
     ]
    },
    {
     "name": "stdout",
     "output_type": "stream",
     "text": [
      "     Completed 11 of 16 videos\n",
      "Converting 2022-02-16_6 . . .\n",
      "     191 frames, starting with DSC03941.JPG\n"
     ]
    },
    {
     "name": "stderr",
     "output_type": "stream",
     "text": [
      "[swscaler @ 0x7fdca0008000] [swscaler @ 0x7fdc90008000] deprecated pixel format used, make sure you did set range correctly\n",
      "[swscaler @ 0x7fdca0008000] [swscaler @ 0x7fdc90028000] deprecated pixel format used, make sure you did set range correctly\n",
      "[swscaler @ 0x7fdca0008000] [swscaler @ 0x7fdc90048000] deprecated pixel format used, make sure you did set range correctly\n",
      "[swscaler @ 0x7fdca0008000] [swscaler @ 0x7fdc90068000] deprecated pixel format used, make sure you did set range correctly\n",
      "[swscaler @ 0x7fdca0008000] [swscaler @ 0x7fdc90088000] deprecated pixel format used, make sure you did set range correctly\n",
      "[swscaler @ 0x7fdca0008000] [swscaler @ 0x7fdc900a8000] deprecated pixel format used, make sure you did set range correctly\n",
      "[swscaler @ 0x7fdca0008000] [swscaler @ 0x7fdc900c8000] deprecated pixel format used, make sure you did set range correctly\n",
      "[swscaler @ 0x7fdca0008000] [swscaler @ 0x7fdc900e8000] deprecated pixel format used, make sure you did set range correctly\n",
      "[swscaler @ 0x7fdca0008000] [swscaler @ 0x7fdc90108000] deprecated pixel format used, make sure you did set range correctly\n",
      "[swscaler @ 0x7fdca0008000] [swscaler @ 0x7fdc90128000] deprecated pixel format used, make sure you did set range correctly\n",
      "[swscaler @ 0x7fdca0008000] [swscaler @ 0x7fdc90148000] deprecated pixel format used, make sure you did set range correctly\n",
      "[swscaler @ 0x7fdca0008000] [swscaler @ 0x7fdc90168000] deprecated pixel format used, make sure you did set range correctly\n",
      "[swscaler @ 0x7fdca0008000] [swscaler @ 0x7fdc90188000] deprecated pixel format used, make sure you did set range correctly\n",
      "[swscaler @ 0x7fdca0008000] [swscaler @ 0x7fdc901a8000] deprecated pixel format used, make sure you did set range correctly\n",
      "[swscaler @ 0x7fdca0008000] [swscaler @ 0x7fdc901c8000] deprecated pixel format used, make sure you did set range correctly\n",
      "[swscaler @ 0x7fdca0008000] [swscaler @ 0x7fdc901e8000] deprecated pixel format used, make sure you did set range correctly\n",
      "[swscaler @ 0x7fdca0008000] [swscaler @ 0x7fdc90208000] deprecated pixel format used, make sure you did set range correctly\n",
      "[mp4 @ 0x7fdcb9f04ac0] Using non-standard frame rate 1/1\n",
      "    Last message repeated 1 times\n",
      "[mp4 @ 0x7fdcb9f04ac0] Application provided duration: -9223372036854775808 / timestamp: -9223372036854775808 is out of range for mov/mp4 format\n",
      "[mp4 @ 0x7fdcb9f04ac0] pts has no value\n"
     ]
    },
    {
     "name": "stdout",
     "output_type": "stream",
     "text": [
      "     Completed 12 of 16 videos\n",
      "Converting 2022-02-16_7 . . .\n",
      "     205 frames, starting with DSC04137.JPG\n"
     ]
    },
    {
     "name": "stderr",
     "output_type": "stream",
     "text": [
      "[swscaler @ 0x7fe320020000] [swscaler @ 0x7fe300008000] deprecated pixel format used, make sure you did set range correctly\n",
      "[swscaler @ 0x7fe320020000] [swscaler @ 0x7fe300028000] deprecated pixel format used, make sure you did set range correctly\n",
      "[swscaler @ 0x7fe320020000] [swscaler @ 0x7fe300048000] deprecated pixel format used, make sure you did set range correctly\n",
      "[swscaler @ 0x7fe320020000] [swscaler @ 0x7fe300068000] deprecated pixel format used, make sure you did set range correctly\n",
      "[swscaler @ 0x7fe320020000] [swscaler @ 0x7fe300088000] deprecated pixel format used, make sure you did set range correctly\n",
      "[swscaler @ 0x7fe320020000] [swscaler @ 0x7fe3000a8000] deprecated pixel format used, make sure you did set range correctly\n",
      "[swscaler @ 0x7fe320020000] [swscaler @ 0x7fe3000c8000] deprecated pixel format used, make sure you did set range correctly\n",
      "[swscaler @ 0x7fe320020000] [swscaler @ 0x7fe3000e8000] deprecated pixel format used, make sure you did set range correctly\n",
      "[swscaler @ 0x7fe320020000] [swscaler @ 0x7fe300108000] deprecated pixel format used, make sure you did set range correctly\n",
      "[swscaler @ 0x7fe320020000] [swscaler @ 0x7fe300128000] deprecated pixel format used, make sure you did set range correctly\n",
      "[swscaler @ 0x7fe320020000] [swscaler @ 0x7fe300148000] deprecated pixel format used, make sure you did set range correctly\n",
      "[swscaler @ 0x7fe320020000] [swscaler @ 0x7fe300168000] deprecated pixel format used, make sure you did set range correctly\n",
      "[swscaler @ 0x7fe320020000] [swscaler @ 0x7fe300188000] deprecated pixel format used, make sure you did set range correctly\n",
      "[swscaler @ 0x7fe320020000] [swscaler @ 0x7fe3001a8000] deprecated pixel format used, make sure you did set range correctly\n",
      "[swscaler @ 0x7fe320020000] [swscaler @ 0x7fe3001c8000] deprecated pixel format used, make sure you did set range correctly\n",
      "[swscaler @ 0x7fe320020000] [swscaler @ 0x7fe2f0008000] deprecated pixel format used, make sure you did set range correctly\n",
      "[swscaler @ 0x7fe320020000] [swscaler @ 0x7fe2f0028000] deprecated pixel format used, make sure you did set range correctly\n",
      "[mp4 @ 0x7fe31b705980] Using non-standard frame rate 1/1\n",
      "    Last message repeated 1 times\n",
      "[mp4 @ 0x7fe31b705980] Application provided duration: -9223372036854775808 / timestamp: -9223372036854775808 is out of range for mov/mp4 format\n",
      "[mp4 @ 0x7fe31b705980] pts has no value\n"
     ]
    },
    {
     "name": "stdout",
     "output_type": "stream",
     "text": [
      "     Completed 13 of 16 videos\n",
      "Converting 2022-02-16_8 . . .\n",
      "     183 frames, starting with DSC04346.JPG\n"
     ]
    },
    {
     "name": "stderr",
     "output_type": "stream",
     "text": [
      "[swscaler @ 0x7fe6e8008000] [swscaler @ 0x7fe6e8018000] deprecated pixel format used, make sure you did set range correctly\n",
      "[swscaler @ 0x7fe6e8008000] [swscaler @ 0x7fe6e8038000] deprecated pixel format used, make sure you did set range correctly\n",
      "[swscaler @ 0x7fe6e8008000] [swscaler @ 0x7fe6e8058000] deprecated pixel format used, make sure you did set range correctly\n",
      "[swscaler @ 0x7fe6e8008000] [swscaler @ 0x7fe6e8078000] deprecated pixel format used, make sure you did set range correctly\n",
      "[swscaler @ 0x7fe6e8008000] [swscaler @ 0x7fe6e8098000] deprecated pixel format used, make sure you did set range correctly\n",
      "[swscaler @ 0x7fe6e8008000] [swscaler @ 0x7fe6e80b8000] deprecated pixel format used, make sure you did set range correctly\n",
      "[swscaler @ 0x7fe6e8008000] [swscaler @ 0x7fe6e80d8000] deprecated pixel format used, make sure you did set range correctly\n",
      "[swscaler @ 0x7fe6e8008000] [swscaler @ 0x7fe6e80f8000] deprecated pixel format used, make sure you did set range correctly\n",
      "[swscaler @ 0x7fe6e8008000] [swscaler @ 0x7fe6e8118000] deprecated pixel format used, make sure you did set range correctly\n",
      "[swscaler @ 0x7fe6e8008000] [swscaler @ 0x7fe6e8138000] deprecated pixel format used, make sure you did set range correctly\n",
      "[swscaler @ 0x7fe6e8008000] [swscaler @ 0x7fe6e8158000] deprecated pixel format used, make sure you did set range correctly\n",
      "[swscaler @ 0x7fe6e8008000] [swscaler @ 0x7fe708b98000] deprecated pixel format used, make sure you did set range correctly\n",
      "[swscaler @ 0x7fe6e8008000] [swscaler @ 0x7fe708bb8000] deprecated pixel format used, make sure you did set range correctly\n",
      "[swscaler @ 0x7fe6e8008000] [swscaler @ 0x7fe708bd8000] deprecated pixel format used, make sure you did set range correctly\n",
      "[swscaler @ 0x7fe6e8008000] [swscaler @ 0x7fe708bf8000] deprecated pixel format used, make sure you did set range correctly\n",
      "[swscaler @ 0x7fe6e8008000] [swscaler @ 0x7fe708c18000] deprecated pixel format used, make sure you did set range correctly\n",
      "[swscaler @ 0x7fe6e8008000] [swscaler @ 0x7fe708c38000] deprecated pixel format used, make sure you did set range correctly\n",
      "[mp4 @ 0x7fe713b04c40] Using non-standard frame rate 1/1\n",
      "    Last message repeated 1 times\n",
      "[mp4 @ 0x7fe713b04c40] Application provided duration: -9223372036854775808 / timestamp: -9223372036854775808 is out of range for mov/mp4 format\n",
      "[mp4 @ 0x7fe713b04c40] pts has no value\n"
     ]
    },
    {
     "name": "stdout",
     "output_type": "stream",
     "text": [
      "     Completed 14 of 16 videos\n",
      "Converting 2022-02-16_9 . . .\n",
      "     149 frames, starting with DSC04532.JPG\n"
     ]
    },
    {
     "name": "stderr",
     "output_type": "stream",
     "text": [
      "[swscaler @ 0x7f7c58008000] [swscaler @ 0x7f7c48008000] deprecated pixel format used, make sure you did set range correctly\n",
      "[swscaler @ 0x7f7c58008000] [swscaler @ 0x7f7c48028000] deprecated pixel format used, make sure you did set range correctly\n",
      "[swscaler @ 0x7f7c58008000] [swscaler @ 0x7f7c48048000] deprecated pixel format used, make sure you did set range correctly\n",
      "[swscaler @ 0x7f7c58008000] [swscaler @ 0x7f7c48068000] deprecated pixel format used, make sure you did set range correctly\n",
      "[swscaler @ 0x7f7c58008000] [swscaler @ 0x7f7c48088000] deprecated pixel format used, make sure you did set range correctly\n",
      "[swscaler @ 0x7f7c58008000] [swscaler @ 0x7f7c480a8000] deprecated pixel format used, make sure you did set range correctly\n",
      "[swscaler @ 0x7f7c58008000] [swscaler @ 0x7f7c480c8000] deprecated pixel format used, make sure you did set range correctly\n",
      "[swscaler @ 0x7f7c58008000] [swscaler @ 0x7f7c480e8000] deprecated pixel format used, make sure you did set range correctly\n",
      "[swscaler @ 0x7f7c58008000] [swscaler @ 0x7f7c48108000] deprecated pixel format used, make sure you did set range correctly\n",
      "[swscaler @ 0x7f7c58008000] [swscaler @ 0x7f7c48128000] deprecated pixel format used, make sure you did set range correctly\n",
      "[swscaler @ 0x7f7c58008000] [swscaler @ 0x7f7c48148000] deprecated pixel format used, make sure you did set range correctly\n",
      "[swscaler @ 0x7f7c58008000] [swscaler @ 0x7f7c48168000] deprecated pixel format used, make sure you did set range correctly\n",
      "[swscaler @ 0x7f7c58008000] [swscaler @ 0x7f7c48188000] deprecated pixel format used, make sure you did set range correctly\n",
      "[swscaler @ 0x7f7c58008000] [swscaler @ 0x7f7c481a8000] deprecated pixel format used, make sure you did set range correctly\n",
      "[swscaler @ 0x7f7c58008000] [swscaler @ 0x7f7c481c8000] deprecated pixel format used, make sure you did set range correctly\n",
      "[swscaler @ 0x7f7c58008000] [swscaler @ 0x7f7c481e8000] deprecated pixel format used, make sure you did set range correctly\n",
      "[swscaler @ 0x7f7c58008000] [swscaler @ 0x7f7c48208000] deprecated pixel format used, make sure you did set range correctly\n",
      "[mp4 @ 0x7f7c74106180] Using non-standard frame rate 1/1\n",
      "    Last message repeated 1 times\n",
      "[mp4 @ 0x7f7c74106180] Application provided duration: -9223372036854775808 / timestamp: -9223372036854775808 is out of range for mov/mp4 format\n",
      "[mp4 @ 0x7f7c74106180] pts has no value\n"
     ]
    },
    {
     "name": "stdout",
     "output_type": "stream",
     "text": [
      "     Completed 15 of 16 videos\n",
      "Converting 2022-02-16_10 . . .\n",
      "     367 frames, starting with DSC04684.JPG\n"
     ]
    },
    {
     "name": "stderr",
     "output_type": "stream",
     "text": [
      "[swscaler @ 0x7fe388ba0000] [swscaler @ 0x7fe378038000] deprecated pixel format used, make sure you did set range correctly\n",
      "[swscaler @ 0x7fe388ba0000] [swscaler @ 0x7fe378058000] deprecated pixel format used, make sure you did set range correctly\n",
      "[swscaler @ 0x7fe388ba0000] [swscaler @ 0x7fe378078000] deprecated pixel format used, make sure you did set range correctly\n",
      "[swscaler @ 0x7fe388ba0000] [swscaler @ 0x7fe378098000] deprecated pixel format used, make sure you did set range correctly\n",
      "[swscaler @ 0x7fe388ba0000] [swscaler @ 0x7fe3780b8000] deprecated pixel format used, make sure you did set range correctly\n",
      "[swscaler @ 0x7fe388ba0000] [swscaler @ 0x7fe3780d8000] deprecated pixel format used, make sure you did set range correctly\n",
      "[swscaler @ 0x7fe388ba0000] [swscaler @ 0x7fe3780f8000] deprecated pixel format used, make sure you did set range correctly\n",
      "[swscaler @ 0x7fe388ba0000] [swscaler @ 0x7fe378118000] deprecated pixel format used, make sure you did set range correctly\n",
      "[swscaler @ 0x7fe388ba0000] [swscaler @ 0x7fe378138000] deprecated pixel format used, make sure you did set range correctly\n",
      "[swscaler @ 0x7fe388ba0000] [swscaler @ 0x7fe378158000] deprecated pixel format used, make sure you did set range correctly\n",
      "[swscaler @ 0x7fe388ba0000] [swscaler @ 0x7fe378178000] deprecated pixel format used, make sure you did set range correctly\n",
      "[swscaler @ 0x7fe388ba0000] [swscaler @ 0x7fe378198000] deprecated pixel format used, make sure you did set range correctly\n",
      "[swscaler @ 0x7fe388ba0000] [swscaler @ 0x7fe3781b8000] deprecated pixel format used, make sure you did set range correctly\n",
      "[swscaler @ 0x7fe388ba0000] [swscaler @ 0x7fe3781d8000] deprecated pixel format used, make sure you did set range correctly\n",
      "[swscaler @ 0x7fe388ba0000] [swscaler @ 0x7fe3781f8000] deprecated pixel format used, make sure you did set range correctly\n",
      "[swscaler @ 0x7fe388ba0000] [swscaler @ 0x7fe378218000] deprecated pixel format used, make sure you did set range correctly\n",
      "[swscaler @ 0x7fe388ba0000] [swscaler @ 0x7fe378238000] deprecated pixel format used, make sure you did set range correctly\n",
      "[mp4 @ 0x7fe385a04c00] Using non-standard frame rate 1/1\n",
      "    Last message repeated 1 times\n",
      "[mp4 @ 0x7fe385a04c00] Application provided duration: -9223372036854775808 / timestamp: -9223372036854775808 is out of range for mov/mp4 format\n",
      "[mp4 @ 0x7fe385a04c00] pts has no value\n"
     ]
    },
    {
     "name": "stdout",
     "output_type": "stream",
     "text": [
      "     Completed 16 of 16 videos\n"
     ]
    }
   ],
   "source": [
    "# Input & output frame rates\n",
    "# These need to be the same or ffmpeg will add or skip frames\n",
    "fps_in = 1\n",
    "fps_out = fps_in\n",
    "\n",
    "# Image quality (0 to 1) for output video\n",
    "# imQuality = 0.75\n",
    "imQuality = 0.6\n",
    "\n",
    "# Quality value, on the 51-point scale used by ffmpeg\n",
    "qVal = 51 * (1 - imQuality)\n",
    "\n",
    "# Open CSV file\n",
    "file = open(csv_path)\n",
    "\n",
    "# Import CSV data\n",
    "d = pd.read_csv(file)\n",
    "\n",
    "# Number of videos to analyze\n",
    "nVids = np.nansum(d.make_video)\n",
    "\n",
    "# COunter for number of videos analyzed\n",
    "k = 1\n",
    "\n",
    "# Loop though each row \n",
    "for n in range(len(d)):\n",
    "\n",
    "    if d.make_video[n]==1:\n",
    "\n",
    "        print('Converting ' + str(d.date[n]) + '_' + str(int(d.trial_num[n])) + ' . . .')\n",
    "\n",
    "        # Read number of frames from spreadsheet\n",
    "        frStart = int(d.start_image_filename[n][3:])\n",
    "        frEnd   = int(d.end_image_filename[n][3:])\n",
    "        nFrames = frEnd - frStart\n",
    "\n",
    "        print('     ' + str(nFrames) + ' frames, starting with ' + str(d.start_image_filename[n]) + '.JPG' )\n",
    "\n",
    "        vidPath = out_path + '/' + str(d.date[n]) + '_' + str(int(d.trial_num[n])) + '_' + (d.start_image_filename[n][3:]) + '.mp4'\n",
    "        imagePath = im_path + '/' + str(d.date[n]) + '/'\n",
    "\n",
    "        # Check that roi is defined\n",
    "        if np.isnan(d.roi_x[n]):\n",
    "            raise Exception(\"You need to define the region-of-interest\")\n",
    "\n",
    "        # Define ROI\n",
    "        r = [int(d.roi_x[n]), int(d.roi_y[n]), int(d.roi_w[n]), int(d.roi_h[n])]\n",
    "\n",
    "        # Excute ffmpeg\n",
    "        command = f\"ffmpeg -framerate {fps_in} -start_number {frStart}  -loglevel warning -i {imagePath}/DSC%05d.{suffix} \" \\\n",
    "                  f\"-vframes {nFrames} -y -vcodec libx264 -pix_fmt yuv420p -an -r {fps_out} -crf {qVal} -vf \" \\\n",
    "                  f\"\\\"crop= {r[2]}:{r[3]}:{r[0]}:{r[1]}\\\" \" \\\n",
    "                  f\"-timecode 00:00:00:00  '{vidPath}'\"\n",
    "        os.system(command)\n",
    "\n",
    "        print('     Completed ' + str(int(k)) + ' of ' + str(int(nVids)) + ' videos')\n",
    "        # print('Completed videos' + )\n",
    "        k = k + 1\n",
    "\n",
    "# Close CSV\n",
    "file.close()\n"
   ]
  }
 ],
 "metadata": {
  "interpreter": {
   "hash": "704b9ce594168d67babdc22e621c35e32a5c0e594a9d61403fb7185fea7bc7ea"
  },
  "kernelspec": {
   "display_name": "Python 3.9.7 ('videoTools')",
   "language": "python",
   "name": "python3"
  },
  "language_info": {
   "codemirror_mode": {
    "name": "ipython",
    "version": 3
   },
   "file_extension": ".py",
   "mimetype": "text/x-python",
   "name": "python",
   "nbconvert_exporter": "python",
   "pygments_lexer": "ipython3",
   "version": "3.9.7"
  },
  "orig_nbformat": 4
 },
 "nbformat": 4,
 "nbformat_minor": 2
}
