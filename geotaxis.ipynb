{
 "cells": [
  {
   "cell_type": "markdown",
   "metadata": {},
   "source": [
    "## Convert image sequences, based on spreadsheet entries"
   ]
  },
  {
   "cell_type": "code",
   "execution_count": 2,
   "metadata": {},
   "outputs": [
    {
     "name": "stdout",
     "output_type": "stream",
     "text": [
      "Converting 2022-02-16_2 . . .\n"
     ]
    },
    {
     "name": "stderr",
     "output_type": "stream",
     "text": [
      "[swscaler @ 0x1489e0000] [swscaler @ 0x1489f0000] deprecated pixel format used, make sure you did set range correctly\n",
      "[swscaler @ 0x1489e0000] [swscaler @ 0x138028000] deprecated pixel format used, make sure you did set range correctly\n",
      "[swscaler @ 0x1489e0000] [swscaler @ 0x138038000] deprecated pixel format used, make sure you did set range correctly\n",
      "[swscaler @ 0x1489e0000] [swscaler @ 0x138058000] deprecated pixel format used, make sure you did set range correctly\n",
      "[swscaler @ 0x1489e0000] [swscaler @ 0x138090000] deprecated pixel format used, make sure you did set range correctly\n",
      "[swscaler @ 0x1489e0000] [swscaler @ 0x1380a0000] deprecated pixel format used, make sure you did set range correctly\n",
      "[swscaler @ 0x1489e0000] [swscaler @ 0x138198000] deprecated pixel format used, make sure you did set range correctly\n",
      "[swscaler @ 0x1489e0000] [swscaler @ 0x1381a8000] deprecated pixel format used, make sure you did set range correctly\n",
      "[swscaler @ 0x1489e0000] [swscaler @ 0x138188000] deprecated pixel format used, make sure you did set range correctly\n",
      "[swscaler @ 0x1489e0000] [swscaler @ 0x1381e0000] deprecated pixel format used, make sure you did set range correctly\n",
      "[swscaler @ 0x1489e0000] [swscaler @ 0x138218000] deprecated pixel format used, make sure you did set range correctly\n"
     ]
    },
    {
     "name": "stdout",
     "output_type": "stream",
     "text": [
      "     Completed 1 of 1 videos\n"
     ]
    }
   ],
   "source": [
    "# import csv\n",
    "import pandas as pd\n",
    "import numpy as np\n",
    "import os\n",
    "# import videoTools as vt\n",
    "\n",
    "# Change to for each computer\n",
    "root_path = '/Users/mmchenry/Documents/Projects/geotaxis'\n",
    "\n",
    "# Subdirectories\n",
    "csv_path  = root_path + '/Seastar geotaxis experiment log - Experiments.csv'\n",
    "im_path   = root_path + '/Raw_images'\n",
    "out_path  = root_path + '/Videos'\n",
    "\n",
    "# Frame rate, image quality, image suffix\n",
    "fps = 1\n",
    "imQuality = 0.75\n",
    "suffix = \"JPG\"\n",
    "\n",
    "# Quality value, on the 51-point scale used by ffmpeg\n",
    "qVal = 51 * (1 - imQuality)\n",
    "\n",
    "# Open CSV file\n",
    "file = open(csv_path)\n",
    "\n",
    "# Import CSV data\n",
    "data = pd.read_csv(file)\n",
    "\n",
    "# Number of videos to analyze\n",
    "nVids = np.nansum(data.make_video)\n",
    "\n",
    "# COunter for number of videos analyzed\n",
    "k = 1\n",
    "\n",
    "# Loop though each row \n",
    "for n in range(len(data)):\n",
    "\n",
    "    if data.make_video[n]==1:\n",
    "\n",
    "        print('Converting ' + str(data.date[n]) + '_' + str(int(data.trial_num[n])) + ' . . .')\n",
    "\n",
    "        # Read number of frames from spreadsheet\n",
    "        frStart = int(data.start_image_filename[n][3:])\n",
    "        frEnd   = int(data.end_image_filename[n][3:])\n",
    "        nFrames = frEnd - frStart\n",
    "\n",
    "        vidPath = out_path + '/' + str(data.date[n]) + '_' + str(int(data.trial_num[n])) + '.mp4'\n",
    "        imagePath = im_path + '/' + str(data.date[n]) + '/'\n",
    "\n",
    "        command = f\"ffmpeg -start_number {frStart}  -loglevel warning -i {imagePath}/DSC%05d.{suffix} \\\n",
    "                 -vframes {nFrames} -y -vcodec libx264 -pix_fmt yuv420p -an -r {fps} -crf {qVal}  '{vidPath}'\"\n",
    "        os.system(command)\n",
    "\n",
    "        print('     Completed ' + str(int(k)) + ' of ' + str(int(nVids)) + ' videos')\n",
    "        # print('Completed videos' + )\n",
    "        k = k + 1\n",
    "\n",
    "# Close CSV\n",
    "file.close()\n"
   ]
  },
  {
   "cell_type": "code",
   "execution_count": null,
   "metadata": {},
   "outputs": [],
   "source": []
  }
 ],
 "metadata": {
  "interpreter": {
   "hash": "704b9ce594168d67babdc22e621c35e32a5c0e594a9d61403fb7185fea7bc7ea"
  },
  "kernelspec": {
   "display_name": "Python 3 (ipykernel)",
   "language": "python",
   "name": "python3"
  },
  "language_info": {
   "codemirror_mode": {
    "name": "ipython",
    "version": 3
   },
   "file_extension": ".py",
   "mimetype": "text/x-python",
   "name": "python",
   "nbconvert_exporter": "python",
   "pygments_lexer": "ipython3",
   "version": "3.9.7"
  }
 },
 "nbformat": 4,
 "nbformat_minor": 2
}
