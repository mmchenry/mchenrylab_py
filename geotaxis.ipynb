{
 "cells": [
  {
   "cell_type": "markdown",
   "metadata": {},
   "source": [
    "## Paths, packages, and parameters"
   ]
  },
  {
   "cell_type": "code",
   "execution_count": 5,
   "metadata": {},
   "outputs": [],
   "source": [
    "import pandas as pd\n",
    "import numpy as np\n",
    "import os\n",
    "import cv2 as cv  # openCV for interacting with video\n",
    "from matplotlib import pyplot as plt\n",
    "# import videoTools as vt\n",
    "\n",
    "# Change to for each computer\n",
    "root_path = '/Users/mmchenry/Documents/Projects/geotaxis'\n",
    "\n",
    "# Subdirectories\n",
    "csv_path  = root_path + '/Seastar geotaxis experiment log - Experiments.csv'\n",
    "im_path   = root_path + '/Raw_images'\n",
    "out_path  = root_path + '/Videos'\n",
    "\n",
    "# Suffix for images\n",
    "suffix = \"JPG\"\n",
    "\n",
    "# Parameters for selecting ROI\n",
    "show_crosshair = True\n",
    "from_center=True"
   ]
  },
  {
   "cell_type": "markdown",
   "metadata": {},
   "source": [
    "## Convert image sequences, based on spreadsheet entries"
   ]
  },
  {
   "cell_type": "code",
   "execution_count": 6,
   "metadata": {},
   "outputs": [
    {
     "name": "stdout",
     "output_type": "stream",
     "text": [
      "Converting 2022-01-25_1 . . .\n",
      "     190 frames, starting with DSC00833.JPG\n"
     ]
    },
    {
     "name": "stderr",
     "output_type": "stream",
     "text": [
      "[swscaler @ 0x138a40000] [swscaler @ 0x128008000] deprecated pixel format used, make sure you did set range correctly\n",
      "[swscaler @ 0x138a40000] [swscaler @ 0x128018000] deprecated pixel format used, make sure you did set range correctly\n",
      "[swscaler @ 0x138a40000] [swscaler @ 0x128050000] deprecated pixel format used, make sure you did set range correctly\n",
      "[swscaler @ 0x138a40000] [swscaler @ 0x128060000] deprecated pixel format used, make sure you did set range correctly\n",
      "[swscaler @ 0x138a40000] [swscaler @ 0x128158000] deprecated pixel format used, make sure you did set range correctly\n",
      "[swscaler @ 0x138a40000] [swscaler @ 0x128168000] deprecated pixel format used, make sure you did set range correctly\n",
      "[swscaler @ 0x138a40000] [swscaler @ 0x128148000] deprecated pixel format used, make sure you did set range correctly\n",
      "[swscaler @ 0x138a40000] [swscaler @ 0x1281a0000] deprecated pixel format used, make sure you did set range correctly\n",
      "[swscaler @ 0x138a40000] [swscaler @ 0x1281d8000] deprecated pixel format used, make sure you did set range correctly\n",
      "[swscaler @ 0x138a40000] [swscaler @ 0x128208000] deprecated pixel format used, make sure you did set range correctly\n",
      "[swscaler @ 0x138a40000] [swscaler @ 0x128260000] deprecated pixel format used, make sure you did set range correctly\n",
      "[mp4 @ 0x140f061c0] Using non-standard frame rate 1/1\n",
      "    Last message repeated 1 times\n",
      "[mp4 @ 0x140f061c0] Application provided duration: -9223372036854775808 / timestamp: -9223372036854775808 is out of range for mov/mp4 format\n",
      "[mp4 @ 0x140f061c0] pts has no value\n"
     ]
    },
    {
     "name": "stdout",
     "output_type": "stream",
     "text": [
      "     Completed 1 of 1 videos\n"
     ]
    }
   ],
   "source": [
    "# Input & output frame rates\n",
    "# These need to be the same or ffmpeg will add or skip frames\n",
    "fps_in = 1\n",
    "fps_out = fps_in\n",
    "\n",
    "# Image quality (0 to 1) for output video\n",
    "# imQuality = 0.75\n",
    "imQuality = 0.6\n",
    "\n",
    "# Quality value, on the 51-point scale used by ffmpeg\n",
    "qVal = 51 * (1 - imQuality)\n",
    "\n",
    "# Open CSV file\n",
    "file = open(csv_path)\n",
    "\n",
    "# Import CSV data\n",
    "d = pd.read_csv(file)\n",
    "\n",
    "# Number of videos to analyze\n",
    "nVids = np.nansum(d.make_video)\n",
    "\n",
    "# COunter for number of videos analyzed\n",
    "k = 1\n",
    "\n",
    "# Loop though each row \n",
    "for n in range(len(d)):\n",
    "\n",
    "    if d.make_video[n]==1:\n",
    "\n",
    "        print('Converting ' + str(d.date[n]) + '_' + str(int(d.trial_num[n])) + ' . . .')\n",
    "\n",
    "        # Read number of frames from spreadsheet\n",
    "        frStart = int(d.start_image_filename[n][3:])\n",
    "        frEnd   = int(d.end_image_filename[n][3:])\n",
    "        nFrames = frEnd - frStart\n",
    "\n",
    "        print('     ' + str(nFrames) + ' frames, starting with ' + str(d.start_image_filename[n]) + '.JPG' )\n",
    "\n",
    "        vidPath = out_path + '/' + str(d.date[n]) + '_' + str(int(d.trial_num[n])) + '.mp4'\n",
    "        imagePath = im_path + '/' + str(d.date[n]) + '/'\n",
    "\n",
    "        # Check that roi is defined\n",
    "        if np.isnan(d.roi_x[n]):\n",
    "            raise Exception(\"You need to define the region-of-interest\")\n",
    "\n",
    "        # Define ROI\n",
    "        r = [int(d.roi_x[n]), int(d.roi_y[n]), int(d.roi_w[n]), int(d.roi_h[n])]\n",
    "\n",
    "        # Excute ffmpeg\n",
    "        command = f\"ffmpeg -framerate {fps_in} -start_number {frStart}  -loglevel warning -i {imagePath}/DSC%05d.{suffix} \" \\\n",
    "                  f\"-vframes {nFrames} -y -vcodec libx264 -pix_fmt yuv420p -an -r {fps_out} -crf {qVal} -vf \" \\\n",
    "                  f\"\\\"crop= {r[2]}:{r[3]}:{r[0]}:{r[1]}\\\" \" \\\n",
    "                  f\"-timecode 00:00:00:00  '{vidPath}'\"\n",
    "        os.system(command)\n",
    "\n",
    "        print('     Completed ' + str(int(k)) + ' of ' + str(int(nVids)) + ' videos')\n",
    "        # print('Completed videos' + )\n",
    "        k = k + 1\n",
    "\n",
    "# Close CSV\n",
    "file.close()\n"
   ]
  }
 ],
 "metadata": {
  "interpreter": {
   "hash": "704b9ce594168d67babdc22e621c35e32a5c0e594a9d61403fb7185fea7bc7ea"
  },
  "kernelspec": {
   "display_name": "Python 3.9.7 ('videoTools')",
   "language": "python",
   "name": "python3"
  },
  "language_info": {
   "codemirror_mode": {
    "name": "ipython",
    "version": 3
   },
   "file_extension": ".py",
   "mimetype": "text/x-python",
   "name": "python",
   "nbconvert_exporter": "python",
   "pygments_lexer": "ipython3",
   "version": "3.9.7"
  },
  "orig_nbformat": 4
 },
 "nbformat": 4,
 "nbformat_minor": 2
}
